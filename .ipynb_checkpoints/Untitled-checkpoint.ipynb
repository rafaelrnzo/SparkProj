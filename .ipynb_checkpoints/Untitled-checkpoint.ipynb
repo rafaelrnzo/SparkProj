{
 "cells": [
  {
   "cell_type": "code",
   "execution_count": 11,
   "id": "225f4fa9-eb91-456d-8e38-90f5105d9201",
   "metadata": {},
   "outputs": [
    {
     "data": {
      "text/html": [
       "\n",
       "            <div>\n",
       "                <p><b>SparkSession - in-memory</b></p>\n",
       "                \n",
       "        <div>\n",
       "            <p><b>SparkContext</b></p>\n",
       "\n",
       "            <p><a href=\"http://SD-LORENZO-PC:4041\">Spark UI</a></p>\n",
       "\n",
       "            <dl>\n",
       "              <dt>Version</dt>\n",
       "                <dd><code>v3.4.2</code></dd>\n",
       "              <dt>Master</dt>\n",
       "                <dd><code>local[*]</code></dd>\n",
       "              <dt>AppName</dt>\n",
       "                <dd><code>Reading from Sockets</code></dd>\n",
       "            </dl>\n",
       "        </div>\n",
       "        \n",
       "            </div>\n",
       "        "
      ],
      "text/plain": [
       "<pyspark.sql.session.SparkSession at 0x256c6afc470>"
      ]
     },
     "execution_count": 11,
     "metadata": {},
     "output_type": "execute_result"
    }
   ],
   "source": [
    "from pyspark.sql import SparkSession\n",
    "\n",
    "spark = (\n",
    "    SparkSession\n",
    "    .builder\n",
    "    .appName(\"Reading from Sockets\")\n",
    "    .master(\"local[*]\")\n",
    "    .getOrCreate()\n",
    ")\n",
    "\n",
    "spark"
   ]
  },
  {
   "cell_type": "code",
   "execution_count": 15,
   "id": "a101de3e-d75e-49f4-ae12-7ec746b4aa83",
   "metadata": {},
   "outputs": [],
   "source": [
    "df_raw = spark.read.format(\"text\").load(\"data/input/example.txt\")"
   ]
  },
  {
   "cell_type": "code",
   "execution_count": 17,
   "id": "ec5c6660-6231-4044-8383-47d783a74aa6",
   "metadata": {},
   "outputs": [
    {
     "name": "stdout",
     "output_type": "stream",
     "text": [
      "root\n",
      " |-- value: string (nullable = true)\n",
      "\n"
     ]
    }
   ],
   "source": [
    "df_raw.printSchema()"
   ]
  },
  {
   "cell_type": "code",
   "execution_count": 19,
   "id": "4f5d6a6d-c755-402a-808f-bfdf2c6b0467",
   "metadata": {},
   "outputs": [
    {
     "name": "stdout",
     "output_type": "stream",
     "text": [
      "+--------------------+\n",
      "|               value|\n",
      "+--------------------+\n",
      "|Lorem ipsum dolor...|\n",
      "+--------------------+\n",
      "\n"
     ]
    }
   ],
   "source": [
    "df_raw.show()"
   ]
  },
  {
   "cell_type": "code",
   "execution_count": 33,
   "id": "12bd6337-db12-4fc1-853b-0997925d3998",
   "metadata": {},
   "outputs": [],
   "source": [
    "from pyspark.sql.functions import split\n",
    "\n",
    "df_words = df_raw.withColumn(\"words\", split(\"value\", \" \"))"
   ]
  },
  {
   "cell_type": "code",
   "execution_count": 35,
   "id": "9d0532a4-6c16-4de5-aaf2-cab14523327c",
   "metadata": {},
   "outputs": [
    {
     "name": "stdout",
     "output_type": "stream",
     "text": [
      "+--------------------+--------------------+\n",
      "|               value|               words|\n",
      "+--------------------+--------------------+\n",
      "|Lorem ipsum dolor...|[Lorem, ipsum, do...|\n",
      "+--------------------+--------------------+\n",
      "\n"
     ]
    }
   ],
   "source": [
    "df_words.show()"
   ]
  },
  {
   "cell_type": "code",
   "execution_count": 45,
   "id": "5b6f0f75-420e-473e-8bd1-f2f0a424a4cb",
   "metadata": {},
   "outputs": [],
   "source": [
    "from pyspark.sql.functions import explode\n",
    "\n",
    "df_explode = df_words.withColumn(\"word\", explode(\"words\")).drop(\"value\", \"words\")"
   ]
  },
  {
   "cell_type": "code",
   "execution_count": 47,
   "id": "65794eae-ea7d-4d7d-b5c1-89218190bca5",
   "metadata": {},
   "outputs": [
    {
     "name": "stdout",
     "output_type": "stream",
     "text": [
      "+-------------+\n",
      "|         word|\n",
      "+-------------+\n",
      "|        Lorem|\n",
      "|        ipsum|\n",
      "|        dolor|\n",
      "|          sit|\n",
      "|        amet,|\n",
      "|  consectetur|\n",
      "|  adipisicing|\n",
      "|        elit.|\n",
      "|        Porro|\n",
      "|      quaerat|\n",
      "|reprehenderit|\n",
      "|     numquam,|\n",
      "|        magni|\n",
      "|         eius|\n",
      "|        optio|\n",
      "|          eum|\n",
      "|  repudiandae|\n",
      "|        nulla|\n",
      "|   voluptatem|\n",
      "|    assumenda|\n",
      "+-------------+\n",
      "only showing top 20 rows\n",
      "\n"
     ]
    }
   ],
   "source": [
    "df_explode.show()"
   ]
  },
  {
   "cell_type": "code",
   "execution_count": 59,
   "id": "c1f0a682-721f-45a7-8573-20bacd0f346b",
   "metadata": {},
   "outputs": [],
   "source": [
    "from pyspark.sql.functions import count, lit\n",
    "\n",
    "df_agg = df_explode.groupBy(\"word\").agg(count(lit(1)).alias(\"cnt\"))"
   ]
  },
  {
   "cell_type": "code",
   "execution_count": 61,
   "id": "034a713f-b5c1-4d5e-8c75-99036edb6773",
   "metadata": {},
   "outputs": [
    {
     "name": "stdout",
     "output_type": "stream",
     "text": [
      "+-----------+---+\n",
      "|       word|cnt|\n",
      "+-----------+---+\n",
      "|    tempora|  1|\n",
      "| voluptates|  1|\n",
      "|   nesciunt|  1|\n",
      "|     veniam|  1|\n",
      "|     facere|  3|\n",
      "|     saepe,|  1|\n",
      "|      minus|  2|\n",
      "|      velit|  2|\n",
      "|consequatur|  1|\n",
      "|        nam|  2|\n",
      "|      vitae|  1|\n",
      "|      ipsa,|  1|\n",
      "|repudiandae|  2|\n",
      "|      earum|  2|\n",
      "|  similique|  1|\n",
      "|   Deserunt|  1|\n",
      "|adipisicing|  1|\n",
      "|      magni|  1|\n",
      "|       quam|  1|\n",
      "| Voluptatum|  1|\n",
      "+-----------+---+\n",
      "only showing top 20 rows\n",
      "\n"
     ]
    }
   ],
   "source": [
    "df_agg.show()"
   ]
  },
  {
   "cell_type": "code",
   "execution_count": null,
   "id": "cdb6ba6e-dd84-4f2b-8fb5-fb9dfdc2801a",
   "metadata": {},
   "outputs": [],
   "source": [
    "df_raw = spark.readStream.format(\"socket\").option(\"host\", \"localhost\").option(\"port\", \"9999\").load()"
   ]
  }
 ],
 "metadata": {
  "kernelspec": {
   "display_name": "Python 3 (ipykernel)",
   "language": "python",
   "name": "python3"
  },
  "language_info": {
   "codemirror_mode": {
    "name": "ipython",
    "version": 3
   },
   "file_extension": ".py",
   "mimetype": "text/x-python",
   "name": "python",
   "nbconvert_exporter": "python",
   "pygments_lexer": "ipython3",
   "version": "3.12.7"
  }
 },
 "nbformat": 4,
 "nbformat_minor": 5
}
